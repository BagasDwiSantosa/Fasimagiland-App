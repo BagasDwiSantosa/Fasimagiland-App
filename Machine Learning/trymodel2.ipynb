{
  "cells": [
    {
      "cell_type": "code",
      "execution_count": null,
      "metadata": {},
      "outputs": [],
      "source": [
        "import numpy as np\n",
        "from tensorflow.keras.preprocessing.image import ImageDataGenerator\n",
        "from tensorflow.keras.models import Sequential\n",
        "from tensorflow.keras.layers import Conv1D, MaxPooling1D, LSTM, Dense, Dropout, BatchNormalization, Bidirectional, TimeDistributed, Flatten"
      ]
    },
    {
      "cell_type": "code",
      "execution_count": null,
      "metadata": {},
      "outputs": [],
      "source": [
        "def load_data(filename, n_data_to_load):\n",
        "    data = np.load(filename)\n",
        "    return data[:n_data_to_load]"
      ]
    },
    {
      "cell_type": "code",
      "execution_count": null,
      "metadata": {},
      "outputs": [],
      "source": [
        "# Function to load dataset\n",
        "def load_dataset(classes, n_data_to_load):\n",
        "    data = []\n",
        "    labels = []\n",
        "    i = 0\n",
        "    for x in classes:\n",
        "        filename = 'D:/BANGKIT 2024/Capstone/Project/Quickdraw/dataset_npy/' + x + '.npy'\n",
        "        temp_data = load_data(filename, n_data_to_load)\n",
        "        y = np.full(len(temp_data), i)\n",
        "        i += 1\n",
        "        data.append(temp_data)\n",
        "        labels.append(y)\n",
        "    return np.concatenate(data), np.concatenate(labels)"
      ]
    },
    {
      "cell_type": "code",
      "execution_count": null,
      "metadata": {},
      "outputs": [],
      "source": [
        "# Preprocessing functions\n",
        "def map_reshape(image):\n",
        "    reshaped_image = np.reshape(image, (28, 28))\n",
        "    return reshaped_image\n",
        "\n",
        "def normalize_image(image):\n",
        "    return image / 255.0\n",
        "\n",
        "def expand_dim(data, index):\n",
        "    return np.expand_dims(data, index)"
      ]
    },
    {
      "cell_type": "code",
      "execution_count": null,
      "metadata": {},
      "outputs": [],
      "source": [
        "# Define model\n",
        "def model(input_shape):\n",
        "    model = Sequential([\n",
        "        TimeDistributed(Conv1D(filters=64, kernel_size=3, activation='relu'), input_shape=input_shape),\n",
        "        TimeDistributed(MaxPooling1D(pool_size=1)),\n",
        "        TimeDistributed(Flatten()),\n",
        "        LSTM(256, return_sequences=True),\n",
        "        LSTM(256),\n",
        "        Dense(3, activation='softmax')  # Assuming 3 classes: anjing, kucing, burung\n",
        "    ])\n",
        "    return model"
      ]
    },
    {
      "cell_type": "code",
      "execution_count": null,
      "metadata": {},
      "outputs": [],
      "source": [
        "# Load and preprocess data\n",
        "classes = ['anjing', 'ikan', 'burung']\n",
        "n_data_to_load = 1000  # Adjust according to the amount of data to load\n",
        "data, labels = load_dataset(classes, n_data_to_load)\n",
        "\n",
        "# Preprocess data\n",
        "data = np.array([map_reshape(img) for img in data])\n",
        "data = normalize_image(data)\n",
        "data = expand_dim(data, -1) "
      ]
    },
    {
      "cell_type": "code",
      "execution_count": null,
      "metadata": {},
      "outputs": [],
      "source": [
        "# Initialize ImageDataGenerator\n",
        "train_datagen = ImageDataGenerator(\n",
        "    rotation_range=40,\n",
        "    width_shift_range=0.2,\n",
        "    height_shift_range=0.2,\n",
        "    shear_range=0.2,\n",
        "    zoom_range=0.2,\n",
        "    horizontal_flip=True,\n",
        "    fill_mode='nearest'\n",
        ")\n",
        "\n",
        "# Create the generator\n",
        "train_generator = train_datagen.flow(\n",
        "    data,\n",
        "    labels,\n",
        "    batch_size=32\n",
        ")"
      ]
    },
    {
      "cell_type": "code",
      "execution_count": 33,
      "metadata": {},
      "outputs": [
        {
          "name": "stdout",
          "output_type": "stream",
          "text": [
            "Epoch 1/50\n"
          ]
        },
        {
          "name": "stderr",
          "output_type": "stream",
          "text": [
            "C:\\Users\\asus Pc\\AppData\\Local\\Packages\\PythonSoftwareFoundation.Python.3.11_qbz5n2kfra8p0\\LocalCache\\local-packages\\Python311\\site-packages\\keras\\src\\layers\\core\\wrapper.py:27: UserWarning: Do not pass an `input_shape`/`input_dim` argument to a layer. When using Sequential models, prefer using an `Input(shape)` object as the first layer in the model instead.\n",
            "  super().__init__(**kwargs)\n",
            "C:\\Users\\asus Pc\\AppData\\Local\\Packages\\PythonSoftwareFoundation.Python.3.11_qbz5n2kfra8p0\\LocalCache\\local-packages\\Python311\\site-packages\\keras\\src\\trainers\\data_adapters\\py_dataset_adapter.py:121: UserWarning: Your `PyDataset` class should call `super().__init__(**kwargs)` in its constructor. `**kwargs` can include `workers`, `use_multiprocessing`, `max_queue_size`. Do not pass these arguments to `fit()`, as they will be ignored.\n",
            "  self._warn_if_super_not_called()\n"
          ]
        },
        {
          "name": "stdout",
          "output_type": "stream",
          "text": [
            "\u001b[1m93/93\u001b[0m \u001b[32m━━━━━━━━━━━━━━━━━━━━\u001b[0m\u001b[37m\u001b[0m \u001b[1m34s\u001b[0m 287ms/step - accuracy: 0.4133 - loss: 1.0714\n",
            "Epoch 2/50\n",
            "\u001b[1m93/93\u001b[0m \u001b[32m━━━━━━━━━━━━━━━━━━━━\u001b[0m\u001b[37m\u001b[0m \u001b[1m0s\u001b[0m 492us/step - accuracy: 0.6562 - loss: 0.9547 \n",
            "Epoch 3/50\n"
          ]
        },
        {
          "name": "stderr",
          "output_type": "stream",
          "text": [
            "C:\\Program Files\\WindowsApps\\PythonSoftwareFoundation.Python.3.11_3.11.2544.0_x64__qbz5n2kfra8p0\\Lib\\contextlib.py:158: UserWarning: Your input ran out of data; interrupting training. Make sure that your dataset or generator can generate at least `steps_per_epoch * epochs` batches. You may need to use the `.repeat()` function when building your dataset.\n",
            "  self.gen.throw(typ, value, traceback)\n"
          ]
        },
        {
          "name": "stdout",
          "output_type": "stream",
          "text": [
            "\u001b[1m93/93\u001b[0m \u001b[32m━━━━━━━━━━━━━━━━━━━━\u001b[0m\u001b[37m\u001b[0m \u001b[1m28s\u001b[0m 304ms/step - accuracy: 0.5239 - loss: 0.9769\n",
            "Epoch 4/50\n",
            "\u001b[1m93/93\u001b[0m \u001b[32m━━━━━━━━━━━━━━━━━━━━\u001b[0m\u001b[37m\u001b[0m \u001b[1m0s\u001b[0m 119us/step - accuracy: 0.4688 - loss: 0.8958 \n",
            "Epoch 5/50\n",
            "\u001b[1m93/93\u001b[0m \u001b[32m━━━━━━━━━━━━━━━━━━━━\u001b[0m\u001b[37m\u001b[0m \u001b[1m30s\u001b[0m 317ms/step - accuracy: 0.5835 - loss: 0.8990\n",
            "Epoch 6/50\n",
            "\u001b[1m93/93\u001b[0m \u001b[32m━━━━━━━━━━━━━━━━━━━━\u001b[0m\u001b[37m\u001b[0m \u001b[1m0s\u001b[0m 163us/step - accuracy: 0.5000 - loss: 1.0165 \n",
            "Epoch 7/50\n",
            "\u001b[1m93/93\u001b[0m \u001b[32m━━━━━━━━━━━━━━━━━━━━\u001b[0m\u001b[37m\u001b[0m \u001b[1m30s\u001b[0m 323ms/step - accuracy: 0.5547 - loss: 0.9046\n",
            "Epoch 8/50\n",
            "\u001b[1m93/93\u001b[0m \u001b[32m━━━━━━━━━━━━━━━━━━━━\u001b[0m\u001b[37m\u001b[0m \u001b[1m0s\u001b[0m 90us/step - accuracy: 0.6562 - loss: 0.7750  \n",
            "Epoch 9/50\n",
            "\u001b[1m93/93\u001b[0m \u001b[32m━━━━━━━━━━━━━━━━━━━━\u001b[0m\u001b[37m\u001b[0m \u001b[1m29s\u001b[0m 309ms/step - accuracy: 0.5983 - loss: 0.8486\n",
            "Epoch 10/50\n",
            "\u001b[1m93/93\u001b[0m \u001b[32m━━━━━━━━━━━━━━━━━━━━\u001b[0m\u001b[37m\u001b[0m \u001b[1m0s\u001b[0m 181us/step - accuracy: 0.5000 - loss: 0.8691 \n",
            "Epoch 11/50\n",
            "\u001b[1m93/93\u001b[0m \u001b[32m━━━━━━━━━━━━━━━━━━━━\u001b[0m\u001b[37m\u001b[0m \u001b[1m30s\u001b[0m 317ms/step - accuracy: 0.6129 - loss: 0.8241\n",
            "Epoch 12/50\n",
            "\u001b[1m93/93\u001b[0m \u001b[32m━━━━━━━━━━━━━━━━━━━━\u001b[0m\u001b[37m\u001b[0m \u001b[1m0s\u001b[0m 86us/step - accuracy: 0.6250 - loss: 0.9484  \n",
            "Epoch 13/50\n",
            "\u001b[1m93/93\u001b[0m \u001b[32m━━━━━━━━━━━━━━━━━━━━\u001b[0m\u001b[37m\u001b[0m \u001b[1m35s\u001b[0m 378ms/step - accuracy: 0.6162 - loss: 0.8146\n",
            "Epoch 14/50\n",
            "\u001b[1m93/93\u001b[0m \u001b[32m━━━━━━━━━━━━━━━━━━━━\u001b[0m\u001b[37m\u001b[0m \u001b[1m0s\u001b[0m 246us/step - accuracy: 0.6250 - loss: 0.6826 \n",
            "Epoch 15/50\n",
            "\u001b[1m93/93\u001b[0m \u001b[32m━━━━━━━━━━━━━━━━━━━━\u001b[0m\u001b[37m\u001b[0m \u001b[1m38s\u001b[0m 411ms/step - accuracy: 0.6528 - loss: 0.7838\n",
            "Epoch 16/50\n",
            "\u001b[1m93/93\u001b[0m \u001b[32m━━━━━━━━━━━━━━━━━━━━\u001b[0m\u001b[37m\u001b[0m \u001b[1m0s\u001b[0m 146us/step - accuracy: 0.6562 - loss: 0.7974 \n",
            "Epoch 17/50\n",
            "\u001b[1m93/93\u001b[0m \u001b[32m━━━━━━━━━━━━━━━━━━━━\u001b[0m\u001b[37m\u001b[0m \u001b[1m30s\u001b[0m 320ms/step - accuracy: 0.6535 - loss: 0.7727\n",
            "Epoch 18/50\n",
            "\u001b[1m93/93\u001b[0m \u001b[32m━━━━━━━━━━━━━━━━━━━━\u001b[0m\u001b[37m\u001b[0m \u001b[1m0s\u001b[0m 158us/step - accuracy: 0.6250 - loss: 0.8170 \n",
            "Epoch 19/50\n",
            "\u001b[1m93/93\u001b[0m \u001b[32m━━━━━━━━━━━━━━━━━━━━\u001b[0m\u001b[37m\u001b[0m \u001b[1m32s\u001b[0m 336ms/step - accuracy: 0.6546 - loss: 0.7694\n",
            "Epoch 20/50\n",
            "\u001b[1m93/93\u001b[0m \u001b[32m━━━━━━━━━━━━━━━━━━━━\u001b[0m\u001b[37m\u001b[0m \u001b[1m0s\u001b[0m 111us/step - accuracy: 0.7500 - loss: 0.7289 \n",
            "Epoch 21/50\n",
            "\u001b[1m93/93\u001b[0m \u001b[32m━━━━━━━━━━━━━━━━━━━━\u001b[0m\u001b[37m\u001b[0m \u001b[1m31s\u001b[0m 332ms/step - accuracy: 0.6656 - loss: 0.7688\n",
            "Epoch 22/50\n",
            "\u001b[1m93/93\u001b[0m \u001b[32m━━━━━━━━━━━━━━━━━━━━\u001b[0m\u001b[37m\u001b[0m \u001b[1m0s\u001b[0m 138us/step - accuracy: 0.7500 - loss: 0.7127 \n",
            "Epoch 23/50\n",
            "\u001b[1m93/93\u001b[0m \u001b[32m━━━━━━━━━━━━━━━━━━━━\u001b[0m\u001b[37m\u001b[0m \u001b[1m30s\u001b[0m 317ms/step - accuracy: 0.6846 - loss: 0.7413\n",
            "Epoch 24/50\n",
            "\u001b[1m93/93\u001b[0m \u001b[32m━━━━━━━━━━━━━━━━━━━━\u001b[0m\u001b[37m\u001b[0m \u001b[1m0s\u001b[0m 100us/step - accuracy: 0.7188 - loss: 0.7661 \n",
            "Epoch 25/50\n",
            "\u001b[1m93/93\u001b[0m \u001b[32m━━━━━━━━━━━━━━━━━━━━\u001b[0m\u001b[37m\u001b[0m \u001b[1m30s\u001b[0m 318ms/step - accuracy: 0.6946 - loss: 0.7006\n",
            "Epoch 26/50\n",
            "\u001b[1m93/93\u001b[0m \u001b[32m━━━━━━━━━━━━━━━━━━━━\u001b[0m\u001b[37m\u001b[0m \u001b[1m0s\u001b[0m 104us/step - accuracy: 0.7188 - loss: 0.6173 \n",
            "Epoch 27/50\n",
            "\u001b[1m93/93\u001b[0m \u001b[32m━━━━━━━━━━━━━━━━━━━━\u001b[0m\u001b[37m\u001b[0m \u001b[1m29s\u001b[0m 313ms/step - accuracy: 0.7016 - loss: 0.7192\n",
            "Epoch 28/50\n",
            "\u001b[1m93/93\u001b[0m \u001b[32m━━━━━━━━━━━━━━━━━━━━\u001b[0m\u001b[37m\u001b[0m \u001b[1m0s\u001b[0m 82us/step - accuracy: 0.7812 - loss: 0.5791  \n",
            "Epoch 29/50\n",
            "\u001b[1m93/93\u001b[0m \u001b[32m━━━━━━━━━━━━━━━━━━━━\u001b[0m\u001b[37m\u001b[0m \u001b[1m30s\u001b[0m 323ms/step - accuracy: 0.7077 - loss: 0.6847\n",
            "Epoch 30/50\n",
            "\u001b[1m93/93\u001b[0m \u001b[32m━━━━━━━━━━━━━━━━━━━━\u001b[0m\u001b[37m\u001b[0m \u001b[1m0s\u001b[0m 81us/step - accuracy: 0.7500 - loss: 0.7302  \n",
            "Epoch 31/50\n",
            "\u001b[1m93/93\u001b[0m \u001b[32m━━━━━━━━━━━━━━━━━━━━\u001b[0m\u001b[37m\u001b[0m \u001b[1m29s\u001b[0m 308ms/step - accuracy: 0.7023 - loss: 0.6886\n",
            "Epoch 32/50\n",
            "\u001b[1m93/93\u001b[0m \u001b[32m━━━━━━━━━━━━━━━━━━━━\u001b[0m\u001b[37m\u001b[0m \u001b[1m0s\u001b[0m 107us/step - accuracy: 0.8438 - loss: 0.5415 \n",
            "Epoch 33/50\n",
            "\u001b[1m93/93\u001b[0m \u001b[32m━━━━━━━━━━━━━━━━━━━━\u001b[0m\u001b[37m\u001b[0m \u001b[1m29s\u001b[0m 305ms/step - accuracy: 0.7199 - loss: 0.6545\n",
            "Epoch 34/50\n",
            "\u001b[1m93/93\u001b[0m \u001b[32m━━━━━━━━━━━━━━━━━━━━\u001b[0m\u001b[37m\u001b[0m \u001b[1m0s\u001b[0m 106us/step - accuracy: 0.6562 - loss: 0.8489 \n",
            "Epoch 35/50\n",
            "\u001b[1m93/93\u001b[0m \u001b[32m━━━━━━━━━━━━━━━━━━━━\u001b[0m\u001b[37m\u001b[0m \u001b[1m32s\u001b[0m 348ms/step - accuracy: 0.7524 - loss: 0.6237\n",
            "Epoch 36/50\n",
            "\u001b[1m93/93\u001b[0m \u001b[32m━━━━━━━━━━━━━━━━━━━━\u001b[0m\u001b[37m\u001b[0m \u001b[1m0s\u001b[0m 98us/step - accuracy: 0.7812 - loss: 0.5041  \n",
            "Epoch 37/50\n",
            "\u001b[1m93/93\u001b[0m \u001b[32m━━━━━━━━━━━━━━━━━━━━\u001b[0m\u001b[37m\u001b[0m \u001b[1m31s\u001b[0m 334ms/step - accuracy: 0.7185 - loss: 0.6661\n",
            "Epoch 38/50\n",
            "\u001b[1m93/93\u001b[0m \u001b[32m━━━━━━━━━━━━━━━━━━━━\u001b[0m\u001b[37m\u001b[0m \u001b[1m0s\u001b[0m 114us/step - accuracy: 0.7812 - loss: 0.5732 \n",
            "Epoch 39/50\n",
            "\u001b[1m93/93\u001b[0m \u001b[32m━━━━━━━━━━━━━━━━━━━━\u001b[0m\u001b[37m\u001b[0m \u001b[1m32s\u001b[0m 344ms/step - accuracy: 0.7283 - loss: 0.6413\n",
            "Epoch 40/50\n",
            "\u001b[1m93/93\u001b[0m \u001b[32m━━━━━━━━━━━━━━━━━━━━\u001b[0m\u001b[37m\u001b[0m \u001b[1m0s\u001b[0m 113us/step - accuracy: 0.7500 - loss: 0.6550 \n",
            "Epoch 41/50\n",
            "\u001b[1m93/93\u001b[0m \u001b[32m━━━━━━━━━━━━━━━━━━━━\u001b[0m\u001b[37m\u001b[0m \u001b[1m31s\u001b[0m 336ms/step - accuracy: 0.7479 - loss: 0.6107\n",
            "Epoch 42/50\n",
            "\u001b[1m93/93\u001b[0m \u001b[32m━━━━━━━━━━━━━━━━━━━━\u001b[0m\u001b[37m\u001b[0m \u001b[1m0s\u001b[0m 121us/step - accuracy: 0.7500 - loss: 0.6430 \n",
            "Epoch 43/50\n",
            "\u001b[1m93/93\u001b[0m \u001b[32m━━━━━━━━━━━━━━━━━━━━\u001b[0m\u001b[37m\u001b[0m \u001b[1m32s\u001b[0m 339ms/step - accuracy: 0.7341 - loss: 0.6169\n",
            "Epoch 44/50\n",
            "\u001b[1m93/93\u001b[0m \u001b[32m━━━━━━━━━━━━━━━━━━━━\u001b[0m\u001b[37m\u001b[0m \u001b[1m0s\u001b[0m 115us/step - accuracy: 0.7500 - loss: 0.5870 \n",
            "Epoch 45/50\n",
            "\u001b[1m93/93\u001b[0m \u001b[32m━━━━━━━━━━━━━━━━━━━━\u001b[0m\u001b[37m\u001b[0m \u001b[1m32s\u001b[0m 341ms/step - accuracy: 0.7562 - loss: 0.5966\n",
            "Epoch 46/50\n",
            "\u001b[1m93/93\u001b[0m \u001b[32m━━━━━━━━━━━━━━━━━━━━\u001b[0m\u001b[37m\u001b[0m \u001b[1m0s\u001b[0m 93us/step - accuracy: 0.7188 - loss: 0.5976  \n",
            "Epoch 47/50\n",
            "\u001b[1m93/93\u001b[0m \u001b[32m━━━━━━━━━━━━━━━━━━━━\u001b[0m\u001b[37m\u001b[0m \u001b[1m31s\u001b[0m 335ms/step - accuracy: 0.7561 - loss: 0.5962\n",
            "Epoch 48/50\n",
            "\u001b[1m93/93\u001b[0m \u001b[32m━━━━━━━━━━━━━━━━━━━━\u001b[0m\u001b[37m\u001b[0m \u001b[1m0s\u001b[0m 119us/step - accuracy: 0.7500 - loss: 0.6091 \n",
            "Epoch 49/50\n",
            "\u001b[1m93/93\u001b[0m \u001b[32m━━━━━━━━━━━━━━━━━━━━\u001b[0m\u001b[37m\u001b[0m \u001b[1m31s\u001b[0m 335ms/step - accuracy: 0.7314 - loss: 0.6142\n",
            "Epoch 50/50\n",
            "\u001b[1m93/93\u001b[0m \u001b[32m━━━━━━━━━━━━━━━━━━━━\u001b[0m\u001b[37m\u001b[0m \u001b[1m0s\u001b[0m 98us/step - accuracy: 0.7812 - loss: 0.5838  \n"
          ]
        },
        {
          "name": "stderr",
          "output_type": "stream",
          "text": [
            "WARNING:absl:You are saving your model as an HDF5 file via `model.save()` or `keras.saving.save_model(model)`. This file format is considered legacy. We recommend using instead the native Keras format, e.g. `model.save('my_model.keras')` or `keras.saving.save_model(model, 'my_model.keras')`. \n"
          ]
        },
        {
          "name": "stdout",
          "output_type": "stream",
          "text": [
            "\u001b[1m1/1\u001b[0m \u001b[32m━━━━━━━━━━━━━━━━━━━━\u001b[0m\u001b[37m\u001b[0m \u001b[1m2s\u001b[0m 2s/step\n",
            "Predicted class: [0]\n"
          ]
        }
      ],
      "source": [
        "# Define and compile the model\n",
        "input_shape = (28, 28, 1)\n",
        "compiled_model = model(input_shape)\n",
        "compiled_model.compile(optimizer='adam', loss='sparse_categorical_crossentropy', metrics=['accuracy'])\n",
        "\n",
        "# Train the model using the augmented data\n",
        "compiled_model.fit(train_generator, steps_per_epoch=len(data) // 32, epochs=50)\n",
        "\n"
      ]
    },
    {
      "cell_type": "code",
      "execution_count": 36,
      "metadata": {},
      "outputs": [
        {
          "name": "stdout",
          "output_type": "stream",
          "text": [
            "\u001b[1m1/1\u001b[0m \u001b[32m━━━━━━━━━━━━━━━━━━━━\u001b[0m\u001b[37m\u001b[0m \u001b[1m0s\u001b[0m 51ms/step\n",
            "Predicted class: [0]\n"
          ]
        }
      ],
      "source": [
        "# Save the trained model\n",
        "# compiled_model.save('trained_model.h5')\n",
        "\n",
        "# Predict new data\n",
        "def predict_new_data(new_data, model):\n",
        "    new_data = map_reshape(new_data)\n",
        "    new_data = normalize_image(new_data)\n",
        "    new_data = expand_dim(new_data, -1)\n",
        "    new_data = np.expand_dims(new_data, 0)  # Add batch dimension\n",
        "    prediction = model.predict(new_data)\n",
        "    return np.argmax(prediction, axis=1)\n",
        "\n",
        "# Example prediction on new data\n",
        "new_data_path = \"D:/BANGKIT 2024/Capstone/Project/Quickdraw/dataset_npy/anjing.npy\"\n",
        "new_data = load_data(new_data_path, 1)\n",
        "prediction = predict_new_data(new_data, compiled_model)\n",
        "print(\"Predicted class:\", prediction)"
      ]
    }
  ],
  "metadata": {
    "colab": {
      "provenance": []
    },
    "kernelspec": {
      "display_name": "Python 3.11.9 64-bit (microsoft store)",
      "language": "python",
      "name": "python3"
    },
    "language_info": {
      "codemirror_mode": {
        "name": "ipython",
        "version": 3
      },
      "file_extension": ".py",
      "mimetype": "text/x-python",
      "name": "python",
      "nbconvert_exporter": "python",
      "pygments_lexer": "ipython3",
      "version": "3.11.9"
    },
    "vscode": {
      "interpreter": {
        "hash": "05eabf1b093d7607e7e2199e4824d66a37da89bbf81b641c1c82b545f999bb21"
      }
    }
  },
  "nbformat": 4,
  "nbformat_minor": 0
}
