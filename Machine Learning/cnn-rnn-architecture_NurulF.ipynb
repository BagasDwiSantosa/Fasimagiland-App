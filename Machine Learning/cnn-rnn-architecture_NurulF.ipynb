{
 "cells": [
  {
   "cell_type": "code",
   "execution_count": 59,
   "metadata": {},
   "outputs": [],
   "source": [
    "import numpy as np\n",
    "from tensorflow.keras.preprocessing.sequence import pad_sequences"
   ]
  },
  {
   "cell_type": "code",
   "execution_count": 60,
   "metadata": {},
   "outputs": [],
   "source": [
    "# Load SketchRNN data from .npz files\n",
    "def load_data(npz_file):\n",
    "    data = np.load(npz_file, allow_pickle=True, encoding='latin1')\n",
    "    num_row = int(len(data['train']) * 0.1)\n",
    "    return data['train'][:num_row]"
   ]
  },
  {
   "cell_type": "code",
   "execution_count": 61,
   "metadata": {},
   "outputs": [],
   "source": [
    "# Load datasets\n",
    "mountain_data = load_data('sketchrnn/mountain.full.npz')\n",
    "house_data = load_data('sketchrnn/house.full.npz')\n",
    "cake_data = load_data('sketchrnn/cake.full.npz')\n",
    "strawberry_data = load_data('sketchrnn/strawberry.full.npz')\n",
    "candle_data = load_data('sketchrnn/candle.full.npz')\n",
    "necklace_data = load_data('sketchrnn/necklace.full.npz')\n",
    "rain_data = load_data('sketchrnn/rain.full.npz')\n",
    "umbrella_data = load_data('sketchrnn/umbrella.full.npz')\n",
    "vase_data = load_data('sketchrnn/vase.full.npz')\n",
    "hat_data = load_data('sketchrnn/hat.full.npz')\n",
    "lollipop_data = load_data('sketchrnn/lollipop.full.npz')\n",
    "eye_data = load_data('sketchrnn/eye.full.npz')\n",
    "fish_data = load_data('sketchrnn/fish.full.npz')\n",
    "flower_data = load_data('sketchrnn/flower.full.npz')      "
   ]
  },
  {
   "cell_type": "code",
   "execution_count": 62,
   "metadata": {},
   "outputs": [],
   "source": [
    "# Combine datasets\n",
    "combined_data = np.concatenate([mountain_data, house_data, cake_data, strawberry_data, candle_data, \n",
    "necklace_data, rain_data, umbrella_data, vase_data, hat_data, lollipop_data, eye_data, fish_data, flower_data])"
   ]
  },
  {
   "cell_type": "code",
   "execution_count": 63,
   "metadata": {},
   "outputs": [
    {
     "name": "stdout",
     "output_type": "stream",
     "text": [
      "(166898,)\n",
      "(25, 3)\n"
     ]
    }
   ],
   "source": [
    "print(combined_data.shape)\n",
    "print(combined_data[9].shape)"
   ]
  },
  {
   "cell_type": "code",
   "execution_count": 64,
   "metadata": {},
   "outputs": [],
   "source": [
    "# Define maximum sequence length\n",
    "max_seq_len = max(len(sketch) for sketch in combined_data)"
   ]
  },
  {
   "cell_type": "code",
   "execution_count": 65,
   "metadata": {},
   "outputs": [
    {
     "data": {
      "text/plain": [
       "148"
      ]
     },
     "execution_count": 65,
     "metadata": {},
     "output_type": "execute_result"
    }
   ],
   "source": [
    "max_seq_len"
   ]
  },
  {
   "cell_type": "code",
   "execution_count": 66,
   "metadata": {},
   "outputs": [],
   "source": [
    "# Pad sequences to the same length and extract features\n",
    "def preprocess_data(data, max_seq_len):\n",
    "    sequences = []\n",
    "    for sketch in data:\n",
    "        sequence = []\n",
    "        for i in range(len(sketch)):\n",
    "            dx, dy, state = sketch[i]\n",
    "            sequence.append([dx, dy, state])\n",
    "        sequences.append(sequence)\n",
    "    padded_sequences = pad_sequences(sequences, maxlen=max_seq_len, padding='post', dtype='float32')\n",
    "    return padded_sequences"
   ]
  },
  {
   "cell_type": "code",
   "execution_count": 67,
   "metadata": {},
   "outputs": [],
   "source": [
    "train_sequences = preprocess_data(combined_data, max_seq_len)"
   ]
  },
  {
   "cell_type": "code",
   "execution_count": 68,
   "metadata": {},
   "outputs": [
    {
     "name": "stdout",
     "output_type": "stream",
     "text": [
      "(166898, 148, 3)\n",
      "(148, 3)\n",
      "[[ 195.   15.    0.]\n",
      " [ 223.    2.    1.]\n",
      " [-360.  -25.    0.]\n",
      " [  30.  -97.    0.]\n",
      " [  23.  -57.    0.]\n",
      " [  87. -183.    0.]\n",
      " [   7.   -9.    0.]\n",
      " [   4.    0.    0.]\n",
      " [  13.   28.    0.]\n",
      " [  16.   61.    0.]\n",
      " [  35.  154.    0.]\n",
      " [  17.  101.    0.]\n",
      " [   9.   31.    1.]\n",
      " [-162. -281.    0.]\n",
      " [   8.   37.    0.]\n",
      " [   7.    2.    0.]\n",
      " [  18.  -23.    0.]\n",
      " [   4.    0.    0.]\n",
      " [  16.   18.    0.]\n",
      " [   5.    1.    0.]\n",
      " [  16.   -5.    0.]\n",
      " [  21.    6.    0.]\n",
      " [  15.   -6.    0.]\n",
      " [   8.   -5.    0.]\n",
      " [   2.   -5.    1.]\n",
      " [   0.    0.    0.]\n",
      " [   0.    0.    0.]\n",
      " [   0.    0.    0.]\n",
      " [   0.    0.    0.]\n",
      " [   0.    0.    0.]\n",
      " [   0.    0.    0.]\n",
      " [   0.    0.    0.]\n",
      " [   0.    0.    0.]\n",
      " [   0.    0.    0.]\n",
      " [   0.    0.    0.]\n",
      " [   0.    0.    0.]\n",
      " [   0.    0.    0.]\n",
      " [   0.    0.    0.]\n",
      " [   0.    0.    0.]\n",
      " [   0.    0.    0.]\n",
      " [   0.    0.    0.]\n",
      " [   0.    0.    0.]\n",
      " [   0.    0.    0.]\n",
      " [   0.    0.    0.]\n",
      " [   0.    0.    0.]\n",
      " [   0.    0.    0.]\n",
      " [   0.    0.    0.]\n",
      " [   0.    0.    0.]\n",
      " [   0.    0.    0.]\n",
      " [   0.    0.    0.]\n",
      " [   0.    0.    0.]\n",
      " [   0.    0.    0.]\n",
      " [   0.    0.    0.]\n",
      " [   0.    0.    0.]\n",
      " [   0.    0.    0.]\n",
      " [   0.    0.    0.]\n",
      " [   0.    0.    0.]\n",
      " [   0.    0.    0.]\n",
      " [   0.    0.    0.]\n",
      " [   0.    0.    0.]\n",
      " [   0.    0.    0.]\n",
      " [   0.    0.    0.]\n",
      " [   0.    0.    0.]\n",
      " [   0.    0.    0.]\n",
      " [   0.    0.    0.]\n",
      " [   0.    0.    0.]\n",
      " [   0.    0.    0.]\n",
      " [   0.    0.    0.]\n",
      " [   0.    0.    0.]\n",
      " [   0.    0.    0.]\n",
      " [   0.    0.    0.]\n",
      " [   0.    0.    0.]\n",
      " [   0.    0.    0.]\n",
      " [   0.    0.    0.]\n",
      " [   0.    0.    0.]\n",
      " [   0.    0.    0.]\n",
      " [   0.    0.    0.]\n",
      " [   0.    0.    0.]\n",
      " [   0.    0.    0.]\n",
      " [   0.    0.    0.]\n",
      " [   0.    0.    0.]\n",
      " [   0.    0.    0.]\n",
      " [   0.    0.    0.]\n",
      " [   0.    0.    0.]\n",
      " [   0.    0.    0.]\n",
      " [   0.    0.    0.]\n",
      " [   0.    0.    0.]\n",
      " [   0.    0.    0.]\n",
      " [   0.    0.    0.]\n",
      " [   0.    0.    0.]\n",
      " [   0.    0.    0.]\n",
      " [   0.    0.    0.]\n",
      " [   0.    0.    0.]\n",
      " [   0.    0.    0.]\n",
      " [   0.    0.    0.]\n",
      " [   0.    0.    0.]\n",
      " [   0.    0.    0.]\n",
      " [   0.    0.    0.]\n",
      " [   0.    0.    0.]\n",
      " [   0.    0.    0.]\n",
      " [   0.    0.    0.]\n",
      " [   0.    0.    0.]\n",
      " [   0.    0.    0.]\n",
      " [   0.    0.    0.]\n",
      " [   0.    0.    0.]\n",
      " [   0.    0.    0.]\n",
      " [   0.    0.    0.]\n",
      " [   0.    0.    0.]\n",
      " [   0.    0.    0.]\n",
      " [   0.    0.    0.]\n",
      " [   0.    0.    0.]\n",
      " [   0.    0.    0.]\n",
      " [   0.    0.    0.]\n",
      " [   0.    0.    0.]\n",
      " [   0.    0.    0.]\n",
      " [   0.    0.    0.]\n",
      " [   0.    0.    0.]\n",
      " [   0.    0.    0.]\n",
      " [   0.    0.    0.]\n",
      " [   0.    0.    0.]\n",
      " [   0.    0.    0.]\n",
      " [   0.    0.    0.]\n",
      " [   0.    0.    0.]\n",
      " [   0.    0.    0.]\n",
      " [   0.    0.    0.]\n",
      " [   0.    0.    0.]\n",
      " [   0.    0.    0.]\n",
      " [   0.    0.    0.]\n",
      " [   0.    0.    0.]\n",
      " [   0.    0.    0.]\n",
      " [   0.    0.    0.]\n",
      " [   0.    0.    0.]\n",
      " [   0.    0.    0.]\n",
      " [   0.    0.    0.]\n",
      " [   0.    0.    0.]\n",
      " [   0.    0.    0.]\n",
      " [   0.    0.    0.]\n",
      " [   0.    0.    0.]\n",
      " [   0.    0.    0.]\n",
      " [   0.    0.    0.]\n",
      " [   0.    0.    0.]\n",
      " [   0.    0.    0.]\n",
      " [   0.    0.    0.]\n",
      " [   0.    0.    0.]\n",
      " [   0.    0.    0.]\n",
      " [   0.    0.    0.]\n",
      " [   0.    0.    0.]\n",
      " [   0.    0.    0.]]\n"
     ]
    }
   ],
   "source": [
    "print(train_sequences.shape)\n",
    "print(train_sequences[9].shape)\n",
    "print(train_sequences[9])"
   ]
  },
  {
   "cell_type": "markdown",
   "metadata": {},
   "source": [
    "## Augment"
   ]
  },
  {
   "cell_type": "code",
   "execution_count": 69,
   "metadata": {},
   "outputs": [],
   "source": [
    "import tensorflow as tf\n",
    "\n",
    "def augment_data(sequences):\n",
    "    # Example of augmenting sequences by adding Gaussian noise\n",
    "    noise_factor = 0.05\n",
    "    augmented_sequences = sequences + noise_factor * np.random.randn(*sequences.shape)\n",
    "    return augmented_sequences"
   ]
  },
  {
   "cell_type": "code",
   "execution_count": 70,
   "metadata": {},
   "outputs": [],
   "source": [
    "# Apply data augmentation\n",
    "augmented_sequences = augment_data(train_sequences)"
   ]
  },
  {
   "cell_type": "code",
   "execution_count": 71,
   "metadata": {},
   "outputs": [
    {
     "name": "stdout",
     "output_type": "stream",
     "text": [
      "(166898, 148, 3)\n",
      "(148, 3)\n",
      "[[ 1.94928346e+02  1.50122256e+01 -1.25408160e-02]\n",
      " [ 2.22956016e+02  2.03471291e+00  9.77923943e-01]\n",
      " [-3.59967019e+02 -2.50050592e+01 -2.41517317e-02]\n",
      " [ 2.99782552e+01 -9.70082217e+01 -3.85676491e-03]\n",
      " [ 2.29423195e+01 -5.69528732e+01 -4.55904536e-02]\n",
      " [ 8.69898662e+01 -1.82985327e+02  1.62803400e-02]\n",
      " [ 7.06917458e+00 -9.02912892e+00 -2.68939936e-02]\n",
      " [ 3.98899286e+00  1.55364706e-03  7.42428608e-02]\n",
      " [ 1.30268178e+01  2.80398315e+01  5.59214962e-02]\n",
      " [ 1.60720190e+01  6.09441784e+01  6.59994863e-03]\n",
      " [ 3.50678108e+01  1.53934570e+02  2.27696011e-02]\n",
      " [ 1.70419621e+01  1.00975475e+02 -3.40000991e-02]\n",
      " [ 9.01679284e+00  3.10108855e+01  1.05328960e+00]\n",
      " [-1.61985206e+02 -2.81010169e+02 -3.42991604e-02]\n",
      " [ 7.97587803e+00  3.69824942e+01  6.23667183e-02]\n",
      " [ 7.03657467e+00  2.01089171e+00  1.05694711e-02]\n",
      " [ 1.80520952e+01 -2.30603799e+01 -4.18957151e-02]\n",
      " [ 4.00248617e+00  6.30074462e-02  1.05923627e-02]\n",
      " [ 1.59323312e+01  1.80492039e+01  3.34389243e-02]\n",
      " [ 5.03927104e+00  8.94352925e-01  8.03019519e-02]\n",
      " [ 1.59476002e+01 -5.00907185e+00 -4.88768022e-02]\n",
      " [ 2.09978320e+01  5.97563594e+00  1.22303658e-02]\n",
      " [ 1.49655920e+01 -5.98265325e+00 -4.50595495e-02]\n",
      " [ 8.11633298e+00 -4.97334490e+00  2.16530180e-02]\n",
      " [ 2.01407547e+00 -4.97957013e+00  1.04596043e+00]\n",
      " [-1.26873490e-02  5.49655072e-02  6.35069437e-02]\n",
      " [ 1.08706343e-01  2.48095103e-02  1.37358373e-01]\n",
      " [-2.51398544e-03 -4.59123057e-02  2.80027233e-02]\n",
      " [ 9.28092089e-02  3.47120363e-02  5.83998588e-02]\n",
      " [-6.63982845e-02 -5.11257095e-02 -8.69498882e-03]\n",
      " [ 3.22535400e-02  7.64214532e-03  4.98689208e-02]\n",
      " [-2.76723498e-02  2.32098593e-03  4.02920295e-02]\n",
      " [ 8.16916438e-03 -3.28892950e-02 -1.39302118e-02]\n",
      " [ 3.91606602e-02  6.43372686e-03  5.46148659e-02]\n",
      " [ 1.16965565e-02 -1.68959788e-02 -3.59905076e-02]\n",
      " [-6.70555173e-02 -3.45221309e-02  8.40414330e-02]\n",
      " [-5.74457601e-02 -2.03078162e-02  7.13541336e-02]\n",
      " [ 7.92021081e-02 -3.52143079e-02  1.07378798e-01]\n",
      " [-3.28664026e-03 -3.65075242e-02  8.26784927e-02]\n",
      " [ 3.44775838e-02 -1.33672629e-01  3.26735393e-02]\n",
      " [ 8.40607584e-02 -1.60423817e-03  3.15538188e-02]\n",
      " [ 6.00431847e-03 -2.98255568e-02 -1.66663611e-02]\n",
      " [-2.19922837e-02  1.30500192e-01  4.12728241e-02]\n",
      " [-5.23522974e-02  5.07269286e-03 -1.77198051e-02]\n",
      " [-5.18657472e-03  3.81387485e-02 -1.78673092e-02]\n",
      " [-1.54071040e-02 -3.83312697e-02 -2.58820246e-02]\n",
      " [-8.41673628e-03 -2.44548147e-02 -4.64623953e-03]\n",
      " [ 6.97622222e-02 -5.50112069e-03 -2.64965343e-02]\n",
      " [ 4.77670370e-02 -5.02450569e-02 -5.48604062e-02]\n",
      " [ 8.96140454e-02 -5.30199493e-02  5.28617782e-02]\n",
      " [ 4.92986742e-02  3.43670186e-02  7.43970694e-02]\n",
      " [ 4.76733498e-02  6.11726480e-02  1.21783162e-02]\n",
      " [ 5.38331667e-02  3.20197258e-02 -2.02842645e-02]\n",
      " [ 4.27751103e-02 -7.38775977e-02 -3.23578855e-03]\n",
      " [-9.01528044e-02  3.86592986e-02  1.52168440e-01]\n",
      " [ 5.23101793e-02 -1.05535897e-01  1.03898733e-02]\n",
      " [ 1.17300864e-01 -1.10413156e-01 -9.30909077e-02]\n",
      " [-6.43045580e-04  7.09411541e-02 -3.57111037e-02]\n",
      " [ 9.05530491e-02 -1.85429254e-02  5.15049216e-02]\n",
      " [-1.22488854e-02 -7.51740675e-02  1.55340222e-03]\n",
      " [ 6.49878502e-03 -8.26641312e-02 -5.53577888e-02]\n",
      " [-4.23792859e-02  7.79243599e-02  2.03937357e-02]\n",
      " [-7.83949853e-02 -9.90697030e-03  4.38435641e-02]\n",
      " [-6.43784418e-02 -6.05183922e-02 -1.35516752e-03]\n",
      " [-3.20312526e-02  1.25955542e-02 -4.27374901e-02]\n",
      " [-7.58848862e-02 -4.93592863e-02  4.82943813e-02]\n",
      " [-7.68538290e-02  3.14438567e-02 -2.54528392e-02]\n",
      " [-3.91142062e-02  6.36815132e-02  1.32684889e-02]\n",
      " [-9.25410514e-02 -5.79722785e-02  3.50625522e-02]\n",
      " [-3.40892475e-03  4.32160238e-02  8.00367260e-03]\n",
      " [ 9.25233611e-02 -6.55736312e-02 -1.13587899e-02]\n",
      " [ 1.52521226e-02  4.52745927e-02  7.61463556e-03]\n",
      " [-1.72141837e-02  5.35307358e-02  4.21980053e-02]\n",
      " [ 8.15203475e-02 -1.49474217e-02 -4.25774475e-02]\n",
      " [-1.30426789e-02 -3.24617519e-03 -6.78630465e-02]\n",
      " [ 5.78079496e-03 -6.59875788e-02 -8.60566758e-02]\n",
      " [ 6.48854613e-03  2.99594001e-02  4.99220222e-03]\n",
      " [-2.30405625e-02 -8.35465686e-02  2.21554072e-02]\n",
      " [-6.79408865e-03 -1.91259732e-03  7.02246286e-02]\n",
      " [ 1.48057009e-01  4.68392466e-02  3.36464242e-02]\n",
      " [ 3.53050839e-02 -1.04310003e-01  1.94051821e-02]\n",
      " [ 7.98974686e-02  4.37231125e-03 -2.55496637e-02]\n",
      " [-7.63259192e-02  5.04854849e-02 -1.98086130e-02]\n",
      " [-5.46832137e-02  1.34965762e-02  1.49810952e-05]\n",
      " [-3.50464145e-02 -3.66195893e-02 -6.55485263e-02]\n",
      " [-6.79677211e-03 -7.65622243e-04  9.11256744e-03]\n",
      " [-2.07831523e-02  4.73239191e-02 -1.66486357e-02]\n",
      " [ 6.11119166e-03 -3.70140754e-02 -8.05465121e-03]\n",
      " [-2.14163576e-02  4.15642678e-02 -6.00747376e-02]\n",
      " [ 4.72011172e-02  4.75374201e-02 -6.58640726e-02]\n",
      " [ 7.61728532e-02  2.90360996e-02 -5.02989273e-02]\n",
      " [-7.79238602e-02 -1.75827148e-02  8.31480536e-03]\n",
      " [-9.70312062e-04  3.46323395e-02 -1.55506399e-02]\n",
      " [-8.34152422e-02  2.04541033e-02 -8.25350375e-03]\n",
      " [ 7.02784637e-02  4.36254943e-02 -2.06347850e-03]\n",
      " [ 5.12654499e-02  2.47302640e-03  3.96338494e-02]\n",
      " [ 2.11215674e-03  4.15829111e-02  1.93235373e-02]\n",
      " [-3.65072225e-02 -4.20490054e-02 -6.84038406e-02]\n",
      " [ 3.89458156e-02  5.08552244e-02 -9.26661792e-03]\n",
      " [ 8.26674769e-02  2.17675354e-02  5.80084475e-02]\n",
      " [-5.56009321e-02  7.15517413e-02  3.20197330e-02]\n",
      " [ 8.16482154e-02  2.28521116e-02  2.22928084e-02]\n",
      " [ 3.03994405e-02  4.92647095e-02  2.35527542e-03]\n",
      " [ 9.24300174e-03  2.21006988e-02 -3.98050115e-03]\n",
      " [-1.44329787e-03 -1.76068206e-02 -9.47220102e-02]\n",
      " [-6.45254827e-02 -4.47091729e-03  2.45218526e-02]\n",
      " [-8.48880870e-02  6.09741124e-02  1.40781248e-01]\n",
      " [ 4.66870916e-03  6.96457852e-02 -1.54531401e-02]\n",
      " [-9.06276859e-03 -3.73157390e-02 -4.55060577e-02]\n",
      " [-3.90977101e-02 -2.61799751e-02 -4.73354238e-02]\n",
      " [-6.73629460e-02 -8.35269393e-02  2.88817407e-02]\n",
      " [ 7.93802542e-02 -6.53241098e-02  8.11813602e-02]\n",
      " [-8.89499082e-02  2.83783443e-02 -2.14609130e-02]\n",
      " [-3.14694558e-02 -3.09609862e-02  4.38993869e-02]\n",
      " [-4.24765122e-02 -1.11102226e-02 -8.49331976e-02]\n",
      " [ 9.13327440e-02  4.97375727e-02  4.73607918e-02]\n",
      " [ 9.13553204e-02 -1.25281983e-02 -2.04445001e-02]\n",
      " [ 8.83805644e-03  1.44904269e-02  9.56534531e-02]\n",
      " [ 1.09436706e-02  6.29424534e-02 -4.27092761e-02]\n",
      " [-4.08832035e-02  7.41184816e-02 -8.05189549e-03]\n",
      " [-2.46903136e-02  6.18992522e-02  1.54074506e-02]\n",
      " [ 8.13599742e-02 -5.28630766e-02  6.31563274e-02]\n",
      " [ 1.10135559e-01 -7.71537100e-02  4.36554648e-02]\n",
      " [-1.24162594e-01 -1.68591777e-02 -1.26997157e-02]\n",
      " [-9.14139183e-03  3.62809614e-02 -1.82994753e-02]\n",
      " [-5.18074519e-02 -4.71028209e-02 -4.14423394e-02]\n",
      " [ 6.05090729e-02 -2.61987422e-02 -6.19364799e-02]\n",
      " [ 1.36851580e-02 -1.07736583e-01  5.92172242e-02]\n",
      " [ 4.98191048e-02  4.08688753e-03  2.18062605e-02]\n",
      " [ 3.87166489e-02 -1.31931216e-01 -3.24763753e-02]\n",
      " [-1.17732316e-02 -8.26806711e-02 -5.88024003e-02]\n",
      " [ 3.48492740e-02  2.55028664e-02 -5.11637656e-03]\n",
      " [-6.11495028e-02 -6.63218396e-02 -9.06076976e-02]\n",
      " [ 4.97481092e-02 -1.13617735e-01  2.69845593e-02]\n",
      " [-1.13652000e-02 -9.45277747e-02 -3.20173895e-02]\n",
      " [-9.41213131e-03  1.51781206e-03  6.00081140e-02]\n",
      " [ 2.34260261e-02 -1.08824863e-03  1.32065176e-02]\n",
      " [-4.65667536e-02  2.36449749e-02 -1.76969682e-02]\n",
      " [ 3.96359363e-02  4.07633223e-02  5.11451071e-02]\n",
      " [-6.17483855e-02 -4.12323587e-02  3.33119751e-02]\n",
      " [-2.69595270e-02  3.28033198e-02  6.77789393e-02]\n",
      " [ 7.49599529e-02 -2.73299485e-03  1.84844595e-02]\n",
      " [-3.34066700e-02  1.87170082e-02  2.38870095e-02]\n",
      " [-6.57828905e-02  2.59185333e-02 -8.30842483e-02]\n",
      " [-3.56438175e-02  3.90700090e-02  5.19559879e-02]\n",
      " [ 3.14760971e-03  7.84432444e-02  1.29506307e-01]\n",
      " [-1.73493383e-02  1.53552141e-02 -5.14015670e-02]\n",
      " [-4.50707375e-02  2.47213658e-02 -4.25085242e-02]]\n"
     ]
    }
   ],
   "source": [
    "print(augmented_sequences.shape)\n",
    "print(augmented_sequences[9].shape)\n",
    "print(augmented_sequences[9])"
   ]
  },
  {
   "cell_type": "markdown",
   "metadata": {},
   "source": [
    "## Modelling"
   ]
  },
  {
   "cell_type": "code",
   "execution_count": 72,
   "metadata": {},
   "outputs": [],
   "source": [
    "from tensorflow.keras.models import Sequential\n",
    "from tensorflow.keras.layers import Conv1D, MaxPooling1D, Flatten, LSTM, Dense, TimeDistributed"
   ]
  },
  {
   "cell_type": "code",
   "execution_count": 73,
   "metadata": {},
   "outputs": [
    {
     "data": {
      "text/html": [
       "<pre style=\"white-space:pre;overflow-x:auto;line-height:normal;font-family:Menlo,'DejaVu Sans Mono',consolas,'Courier New',monospace\"><span style=\"font-weight: bold\">Model: \"sequential_8\"</span>\n",
       "</pre>\n"
      ],
      "text/plain": [
       "\u001b[1mModel: \"sequential_8\"\u001b[0m\n"
      ]
     },
     "metadata": {},
     "output_type": "display_data"
    },
    {
     "data": {
      "text/html": [
       "<pre style=\"white-space:pre;overflow-x:auto;line-height:normal;font-family:Menlo,'DejaVu Sans Mono',consolas,'Courier New',monospace\">┏━━━━━━━━━━━━━━━━━━━━━━━━━━━━━━━━━┳━━━━━━━━━━━━━━━━━━━━━━━━┳━━━━━━━━━━━━━━━┓\n",
       "┃<span style=\"font-weight: bold\"> Layer (type)                    </span>┃<span style=\"font-weight: bold\"> Output Shape           </span>┃<span style=\"font-weight: bold\">       Param # </span>┃\n",
       "┡━━━━━━━━━━━━━━━━━━━━━━━━━━━━━━━━━╇━━━━━━━━━━━━━━━━━━━━━━━━╇━━━━━━━━━━━━━━━┩\n",
       "│ time_distributed_24             │ (<span style=\"color: #00d7ff; text-decoration-color: #00d7ff\">None</span>, <span style=\"color: #00af00; text-decoration-color: #00af00\">148</span>, <span style=\"color: #00af00; text-decoration-color: #00af00\">1</span>, <span style=\"color: #00af00; text-decoration-color: #00af00\">64</span>)     │           <span style=\"color: #00af00; text-decoration-color: #00af00\">256</span> │\n",
       "│ (<span style=\"color: #0087ff; text-decoration-color: #0087ff\">TimeDistributed</span>)               │                        │               │\n",
       "├─────────────────────────────────┼────────────────────────┼───────────────┤\n",
       "│ time_distributed_25             │ (<span style=\"color: #00d7ff; text-decoration-color: #00d7ff\">None</span>, <span style=\"color: #00af00; text-decoration-color: #00af00\">148</span>, <span style=\"color: #00af00; text-decoration-color: #00af00\">1</span>, <span style=\"color: #00af00; text-decoration-color: #00af00\">64</span>)     │             <span style=\"color: #00af00; text-decoration-color: #00af00\">0</span> │\n",
       "│ (<span style=\"color: #0087ff; text-decoration-color: #0087ff\">TimeDistributed</span>)               │                        │               │\n",
       "├─────────────────────────────────┼────────────────────────┼───────────────┤\n",
       "│ time_distributed_26             │ (<span style=\"color: #00d7ff; text-decoration-color: #00d7ff\">None</span>, <span style=\"color: #00af00; text-decoration-color: #00af00\">148</span>, <span style=\"color: #00af00; text-decoration-color: #00af00\">64</span>)        │             <span style=\"color: #00af00; text-decoration-color: #00af00\">0</span> │\n",
       "│ (<span style=\"color: #0087ff; text-decoration-color: #0087ff\">TimeDistributed</span>)               │                        │               │\n",
       "├─────────────────────────────────┼────────────────────────┼───────────────┤\n",
       "│ lstm_16 (<span style=\"color: #0087ff; text-decoration-color: #0087ff\">LSTM</span>)                  │ (<span style=\"color: #00d7ff; text-decoration-color: #00d7ff\">None</span>, <span style=\"color: #00af00; text-decoration-color: #00af00\">148</span>, <span style=\"color: #00af00; text-decoration-color: #00af00\">256</span>)       │       <span style=\"color: #00af00; text-decoration-color: #00af00\">328,704</span> │\n",
       "├─────────────────────────────────┼────────────────────────┼───────────────┤\n",
       "│ lstm_17 (<span style=\"color: #0087ff; text-decoration-color: #0087ff\">LSTM</span>)                  │ (<span style=\"color: #00d7ff; text-decoration-color: #00d7ff\">None</span>, <span style=\"color: #00af00; text-decoration-color: #00af00\">256</span>)            │       <span style=\"color: #00af00; text-decoration-color: #00af00\">525,312</span> │\n",
       "├─────────────────────────────────┼────────────────────────┼───────────────┤\n",
       "│ dense_8 (<span style=\"color: #0087ff; text-decoration-color: #0087ff\">Dense</span>)                 │ (<span style=\"color: #00d7ff; text-decoration-color: #00d7ff\">None</span>, <span style=\"color: #00af00; text-decoration-color: #00af00\">14</span>)             │         <span style=\"color: #00af00; text-decoration-color: #00af00\">3,598</span> │\n",
       "└─────────────────────────────────┴────────────────────────┴───────────────┘\n",
       "</pre>\n"
      ],
      "text/plain": [
       "┏━━━━━━━━━━━━━━━━━━━━━━━━━━━━━━━━━┳━━━━━━━━━━━━━━━━━━━━━━━━┳━━━━━━━━━━━━━━━┓\n",
       "┃\u001b[1m \u001b[0m\u001b[1mLayer (type)                   \u001b[0m\u001b[1m \u001b[0m┃\u001b[1m \u001b[0m\u001b[1mOutput Shape          \u001b[0m\u001b[1m \u001b[0m┃\u001b[1m \u001b[0m\u001b[1m      Param #\u001b[0m\u001b[1m \u001b[0m┃\n",
       "┡━━━━━━━━━━━━━━━━━━━━━━━━━━━━━━━━━╇━━━━━━━━━━━━━━━━━━━━━━━━╇━━━━━━━━━━━━━━━┩\n",
       "│ time_distributed_24             │ (\u001b[38;5;45mNone\u001b[0m, \u001b[38;5;34m148\u001b[0m, \u001b[38;5;34m1\u001b[0m, \u001b[38;5;34m64\u001b[0m)     │           \u001b[38;5;34m256\u001b[0m │\n",
       "│ (\u001b[38;5;33mTimeDistributed\u001b[0m)               │                        │               │\n",
       "├─────────────────────────────────┼────────────────────────┼───────────────┤\n",
       "│ time_distributed_25             │ (\u001b[38;5;45mNone\u001b[0m, \u001b[38;5;34m148\u001b[0m, \u001b[38;5;34m1\u001b[0m, \u001b[38;5;34m64\u001b[0m)     │             \u001b[38;5;34m0\u001b[0m │\n",
       "│ (\u001b[38;5;33mTimeDistributed\u001b[0m)               │                        │               │\n",
       "├─────────────────────────────────┼────────────────────────┼───────────────┤\n",
       "│ time_distributed_26             │ (\u001b[38;5;45mNone\u001b[0m, \u001b[38;5;34m148\u001b[0m, \u001b[38;5;34m64\u001b[0m)        │             \u001b[38;5;34m0\u001b[0m │\n",
       "│ (\u001b[38;5;33mTimeDistributed\u001b[0m)               │                        │               │\n",
       "├─────────────────────────────────┼────────────────────────┼───────────────┤\n",
       "│ lstm_16 (\u001b[38;5;33mLSTM\u001b[0m)                  │ (\u001b[38;5;45mNone\u001b[0m, \u001b[38;5;34m148\u001b[0m, \u001b[38;5;34m256\u001b[0m)       │       \u001b[38;5;34m328,704\u001b[0m │\n",
       "├─────────────────────────────────┼────────────────────────┼───────────────┤\n",
       "│ lstm_17 (\u001b[38;5;33mLSTM\u001b[0m)                  │ (\u001b[38;5;45mNone\u001b[0m, \u001b[38;5;34m256\u001b[0m)            │       \u001b[38;5;34m525,312\u001b[0m │\n",
       "├─────────────────────────────────┼────────────────────────┼───────────────┤\n",
       "│ dense_8 (\u001b[38;5;33mDense\u001b[0m)                 │ (\u001b[38;5;45mNone\u001b[0m, \u001b[38;5;34m14\u001b[0m)             │         \u001b[38;5;34m3,598\u001b[0m │\n",
       "└─────────────────────────────────┴────────────────────────┴───────────────┘\n"
      ]
     },
     "metadata": {},
     "output_type": "display_data"
    },
    {
     "data": {
      "text/html": [
       "<pre style=\"white-space:pre;overflow-x:auto;line-height:normal;font-family:Menlo,'DejaVu Sans Mono',consolas,'Courier New',monospace\"><span style=\"font-weight: bold\"> Total params: </span><span style=\"color: #00af00; text-decoration-color: #00af00\">857,870</span> (3.27 MB)\n",
       "</pre>\n"
      ],
      "text/plain": [
       "\u001b[1m Total params: \u001b[0m\u001b[38;5;34m857,870\u001b[0m (3.27 MB)\n"
      ]
     },
     "metadata": {},
     "output_type": "display_data"
    },
    {
     "data": {
      "text/html": [
       "<pre style=\"white-space:pre;overflow-x:auto;line-height:normal;font-family:Menlo,'DejaVu Sans Mono',consolas,'Courier New',monospace\"><span style=\"font-weight: bold\"> Trainable params: </span><span style=\"color: #00af00; text-decoration-color: #00af00\">857,870</span> (3.27 MB)\n",
       "</pre>\n"
      ],
      "text/plain": [
       "\u001b[1m Trainable params: \u001b[0m\u001b[38;5;34m857,870\u001b[0m (3.27 MB)\n"
      ]
     },
     "metadata": {},
     "output_type": "display_data"
    },
    {
     "data": {
      "text/html": [
       "<pre style=\"white-space:pre;overflow-x:auto;line-height:normal;font-family:Menlo,'DejaVu Sans Mono',consolas,'Courier New',monospace\"><span style=\"font-weight: bold\"> Non-trainable params: </span><span style=\"color: #00af00; text-decoration-color: #00af00\">0</span> (0.00 B)\n",
       "</pre>\n"
      ],
      "text/plain": [
       "\u001b[1m Non-trainable params: \u001b[0m\u001b[38;5;34m0\u001b[0m (0.00 B)\n"
      ]
     },
     "metadata": {},
     "output_type": "display_data"
    }
   ],
   "source": [
    "# Define the model architecture\n",
    "model = Sequential([\n",
    "    TimeDistributed(Conv1D(filters=64, kernel_size=3, activation='relu'), input_shape=(max_seq_len, 3, 1)),\n",
    "    TimeDistributed(MaxPooling1D(pool_size=1)),\n",
    "    TimeDistributed(Flatten()),\n",
    "    LSTM(256, return_sequences=True),\n",
    "    LSTM(256),\n",
    "    Dense(14, activation='softmax')  \n",
    "])\n",
    "\n",
    "# Compile the model\n",
    "model.compile(optimizer='adam', loss='sparse_categorical_crossentropy', metrics=['accuracy'])\n",
    "model.summary()"
   ]
  },
  {
   "cell_type": "markdown",
   "metadata": {},
   "source": [
    "## Train"
   ]
  },
  {
   "cell_type": "code",
   "execution_count": 74,
   "metadata": {},
   "outputs": [],
   "source": [
    "# Reshape data to add a channel dimension for CNN\n",
    "train_sequences = np.expand_dims(train_sequences, axis=-1)\n",
    "augmented_sequences = np.expand_dims(augmented_sequences, axis=-1)"
   ]
  },
  {
   "cell_type": "code",
   "execution_count": 75,
   "metadata": {},
   "outputs": [],
   "source": [
    "# Assuming you have labels for the combined data\n",
    "combined_labels = np.concatenate([np.zeros(len(mountain_data)), np.ones(len(house_data)), np.full(len(cake_data), 2),\n",
    "np.full(len(strawberry_data), 3), np.full(len(candle_data), 4), np.full(len(necklace_data), 5), np.full(len(rain_data), 6),\n",
    "np.full(len(umbrella_data), 7), np.full(len(vase_data), 8), np.full(len(hat_data), 2), np.full(len(lollipop_data), 9), \n",
    "np.full(len(eye_data), 10), np.full(len(fish_data), 11), np.full(len(flower_data), 12)])"
   ]
  },
  {
   "cell_type": "code",
   "execution_count": 76,
   "metadata": {},
   "outputs": [
    {
     "name": "stdout",
     "output_type": "stream",
     "text": [
      "Epoch 1/10\n",
      "\u001b[1m2087/2087\u001b[0m \u001b[32m━━━━━━━━━━━━━━━━━━━━\u001b[0m\u001b[37m\u001b[0m \u001b[1m2497s\u001b[0m 1s/step - accuracy: 0.4510 - loss: 1.6164 - val_accuracy: 0.1190 - val_loss: 9.3060\n",
      "Epoch 2/10\n",
      "\u001b[1m2087/2087\u001b[0m \u001b[32m━━━━━━━━━━━━━━━━━━━━\u001b[0m\u001b[37m\u001b[0m \u001b[1m2986s\u001b[0m 1s/step - accuracy: 0.8947 - loss: 0.3332 - val_accuracy: 0.2077 - val_loss: 8.5599\n",
      "Epoch 3/10\n",
      "\u001b[1m2087/2087\u001b[0m \u001b[32m━━━━━━━━━━━━━━━━━━━━\u001b[0m\u001b[37m\u001b[0m \u001b[1m2174s\u001b[0m 1s/step - accuracy: 0.9326 - loss: 0.2200 - val_accuracy: 0.2170 - val_loss: 8.8300\n",
      "Epoch 4/10\n",
      "\u001b[1m2087/2087\u001b[0m \u001b[32m━━━━━━━━━━━━━━━━━━━━\u001b[0m\u001b[37m\u001b[0m \u001b[1m1854s\u001b[0m 888ms/step - accuracy: 0.9487 - loss: 0.1686 - val_accuracy: 0.2082 - val_loss: 9.1623\n",
      "Epoch 5/10\n",
      "\u001b[1m2087/2087\u001b[0m \u001b[32m━━━━━━━━━━━━━━━━━━━━\u001b[0m\u001b[37m\u001b[0m \u001b[1m1744s\u001b[0m 836ms/step - accuracy: 0.9601 - loss: 0.1335 - val_accuracy: 0.2315 - val_loss: 9.2300\n",
      "Epoch 6/10\n",
      "\u001b[1m 820/2087\u001b[0m \u001b[32m━━━━━━━\u001b[0m\u001b[37m━━━━━━━━━━━━━\u001b[0m \u001b[1m19:39\u001b[0m 931ms/step - accuracy: 0.9659 - loss: 0.1103"
     ]
    },
    {
     "ename": "KeyboardInterrupt",
     "evalue": "",
     "output_type": "error",
     "traceback": [
      "\u001b[1;31m---------------------------------------------------------------------------\u001b[0m",
      "\u001b[1;31mKeyboardInterrupt\u001b[0m                         Traceback (most recent call last)",
      "Cell \u001b[1;32mIn[76], line 2\u001b[0m\n\u001b[0;32m      1\u001b[0m \u001b[38;5;66;03m# Train the model\u001b[39;00m\n\u001b[1;32m----> 2\u001b[0m \u001b[43mmodel\u001b[49m\u001b[38;5;241;43m.\u001b[39;49m\u001b[43mfit\u001b[49m\u001b[43m(\u001b[49m\u001b[43maugmented_sequences\u001b[49m\u001b[43m,\u001b[49m\u001b[43m \u001b[49m\u001b[43mcombined_labels\u001b[49m\u001b[43m,\u001b[49m\u001b[43m \u001b[49m\u001b[43mepochs\u001b[49m\u001b[38;5;241;43m=\u001b[39;49m\u001b[38;5;241;43m10\u001b[39;49m\u001b[43m,\u001b[49m\u001b[43m \u001b[49m\u001b[43mbatch_size\u001b[49m\u001b[38;5;241;43m=\u001b[39;49m\u001b[38;5;241;43m64\u001b[39;49m\u001b[43m,\u001b[49m\u001b[43m \u001b[49m\u001b[43mvalidation_split\u001b[49m\u001b[38;5;241;43m=\u001b[39;49m\u001b[38;5;241;43m0.2\u001b[39;49m\u001b[43m)\u001b[49m\n",
      "File \u001b[1;32m~\\AppData\\Local\\Packages\\PythonSoftwareFoundation.Python.3.10_qbz5n2kfra8p0\\LocalCache\\local-packages\\Python310\\site-packages\\keras\\src\\utils\\traceback_utils.py:117\u001b[0m, in \u001b[0;36mfilter_traceback.<locals>.error_handler\u001b[1;34m(*args, **kwargs)\u001b[0m\n\u001b[0;32m    115\u001b[0m filtered_tb \u001b[38;5;241m=\u001b[39m \u001b[38;5;28;01mNone\u001b[39;00m\n\u001b[0;32m    116\u001b[0m \u001b[38;5;28;01mtry\u001b[39;00m:\n\u001b[1;32m--> 117\u001b[0m     \u001b[38;5;28;01mreturn\u001b[39;00m fn(\u001b[38;5;241m*\u001b[39margs, \u001b[38;5;241m*\u001b[39m\u001b[38;5;241m*\u001b[39mkwargs)\n\u001b[0;32m    118\u001b[0m \u001b[38;5;28;01mexcept\u001b[39;00m \u001b[38;5;167;01mException\u001b[39;00m \u001b[38;5;28;01mas\u001b[39;00m e:\n\u001b[0;32m    119\u001b[0m     filtered_tb \u001b[38;5;241m=\u001b[39m _process_traceback_frames(e\u001b[38;5;241m.\u001b[39m__traceback__)\n",
      "File \u001b[1;32m~\\AppData\\Local\\Packages\\PythonSoftwareFoundation.Python.3.10_qbz5n2kfra8p0\\LocalCache\\local-packages\\Python310\\site-packages\\keras\\src\\backend\\tensorflow\\trainer.py:314\u001b[0m, in \u001b[0;36mTensorFlowTrainer.fit\u001b[1;34m(self, x, y, batch_size, epochs, verbose, callbacks, validation_split, validation_data, shuffle, class_weight, sample_weight, initial_epoch, steps_per_epoch, validation_steps, validation_batch_size, validation_freq)\u001b[0m\n\u001b[0;32m    312\u001b[0m \u001b[38;5;28;01mfor\u001b[39;00m step, iterator \u001b[38;5;129;01min\u001b[39;00m epoch_iterator\u001b[38;5;241m.\u001b[39menumerate_epoch():\n\u001b[0;32m    313\u001b[0m     callbacks\u001b[38;5;241m.\u001b[39mon_train_batch_begin(step)\n\u001b[1;32m--> 314\u001b[0m     logs \u001b[38;5;241m=\u001b[39m \u001b[38;5;28;43mself\u001b[39;49m\u001b[38;5;241;43m.\u001b[39;49m\u001b[43mtrain_function\u001b[49m\u001b[43m(\u001b[49m\u001b[43miterator\u001b[49m\u001b[43m)\u001b[49m\n\u001b[0;32m    315\u001b[0m     logs \u001b[38;5;241m=\u001b[39m \u001b[38;5;28mself\u001b[39m\u001b[38;5;241m.\u001b[39m_pythonify_logs(logs)\n\u001b[0;32m    316\u001b[0m     callbacks\u001b[38;5;241m.\u001b[39mon_train_batch_end(step, logs)\n",
      "File \u001b[1;32m~\\AppData\\Local\\Packages\\PythonSoftwareFoundation.Python.3.10_qbz5n2kfra8p0\\LocalCache\\local-packages\\Python310\\site-packages\\tensorflow\\python\\util\\traceback_utils.py:150\u001b[0m, in \u001b[0;36mfilter_traceback.<locals>.error_handler\u001b[1;34m(*args, **kwargs)\u001b[0m\n\u001b[0;32m    148\u001b[0m filtered_tb \u001b[38;5;241m=\u001b[39m \u001b[38;5;28;01mNone\u001b[39;00m\n\u001b[0;32m    149\u001b[0m \u001b[38;5;28;01mtry\u001b[39;00m:\n\u001b[1;32m--> 150\u001b[0m   \u001b[38;5;28;01mreturn\u001b[39;00m fn(\u001b[38;5;241m*\u001b[39margs, \u001b[38;5;241m*\u001b[39m\u001b[38;5;241m*\u001b[39mkwargs)\n\u001b[0;32m    151\u001b[0m \u001b[38;5;28;01mexcept\u001b[39;00m \u001b[38;5;167;01mException\u001b[39;00m \u001b[38;5;28;01mas\u001b[39;00m e:\n\u001b[0;32m    152\u001b[0m   filtered_tb \u001b[38;5;241m=\u001b[39m _process_traceback_frames(e\u001b[38;5;241m.\u001b[39m__traceback__)\n",
      "File \u001b[1;32m~\\AppData\\Local\\Packages\\PythonSoftwareFoundation.Python.3.10_qbz5n2kfra8p0\\LocalCache\\local-packages\\Python310\\site-packages\\tensorflow\\python\\eager\\polymorphic_function\\polymorphic_function.py:833\u001b[0m, in \u001b[0;36mFunction.__call__\u001b[1;34m(self, *args, **kwds)\u001b[0m\n\u001b[0;32m    830\u001b[0m compiler \u001b[38;5;241m=\u001b[39m \u001b[38;5;124m\"\u001b[39m\u001b[38;5;124mxla\u001b[39m\u001b[38;5;124m\"\u001b[39m \u001b[38;5;28;01mif\u001b[39;00m \u001b[38;5;28mself\u001b[39m\u001b[38;5;241m.\u001b[39m_jit_compile \u001b[38;5;28;01melse\u001b[39;00m \u001b[38;5;124m\"\u001b[39m\u001b[38;5;124mnonXla\u001b[39m\u001b[38;5;124m\"\u001b[39m\n\u001b[0;32m    832\u001b[0m \u001b[38;5;28;01mwith\u001b[39;00m OptionalXlaContext(\u001b[38;5;28mself\u001b[39m\u001b[38;5;241m.\u001b[39m_jit_compile):\n\u001b[1;32m--> 833\u001b[0m   result \u001b[38;5;241m=\u001b[39m \u001b[38;5;28mself\u001b[39m\u001b[38;5;241m.\u001b[39m_call(\u001b[38;5;241m*\u001b[39margs, \u001b[38;5;241m*\u001b[39m\u001b[38;5;241m*\u001b[39mkwds)\n\u001b[0;32m    835\u001b[0m new_tracing_count \u001b[38;5;241m=\u001b[39m \u001b[38;5;28mself\u001b[39m\u001b[38;5;241m.\u001b[39mexperimental_get_tracing_count()\n\u001b[0;32m    836\u001b[0m without_tracing \u001b[38;5;241m=\u001b[39m (tracing_count \u001b[38;5;241m==\u001b[39m new_tracing_count)\n",
      "File \u001b[1;32m~\\AppData\\Local\\Packages\\PythonSoftwareFoundation.Python.3.10_qbz5n2kfra8p0\\LocalCache\\local-packages\\Python310\\site-packages\\tensorflow\\python\\eager\\polymorphic_function\\polymorphic_function.py:878\u001b[0m, in \u001b[0;36mFunction._call\u001b[1;34m(self, *args, **kwds)\u001b[0m\n\u001b[0;32m    875\u001b[0m \u001b[38;5;28mself\u001b[39m\u001b[38;5;241m.\u001b[39m_lock\u001b[38;5;241m.\u001b[39mrelease()\n\u001b[0;32m    876\u001b[0m \u001b[38;5;66;03m# In this case we have not created variables on the first call. So we can\u001b[39;00m\n\u001b[0;32m    877\u001b[0m \u001b[38;5;66;03m# run the first trace but we should fail if variables are created.\u001b[39;00m\n\u001b[1;32m--> 878\u001b[0m results \u001b[38;5;241m=\u001b[39m \u001b[43mtracing_compilation\u001b[49m\u001b[38;5;241;43m.\u001b[39;49m\u001b[43mcall_function\u001b[49m\u001b[43m(\u001b[49m\n\u001b[0;32m    879\u001b[0m \u001b[43m    \u001b[49m\u001b[43margs\u001b[49m\u001b[43m,\u001b[49m\u001b[43m \u001b[49m\u001b[43mkwds\u001b[49m\u001b[43m,\u001b[49m\u001b[43m \u001b[49m\u001b[38;5;28;43mself\u001b[39;49m\u001b[38;5;241;43m.\u001b[39;49m\u001b[43m_variable_creation_config\u001b[49m\n\u001b[0;32m    880\u001b[0m \u001b[43m\u001b[49m\u001b[43m)\u001b[49m\n\u001b[0;32m    881\u001b[0m \u001b[38;5;28;01mif\u001b[39;00m \u001b[38;5;28mself\u001b[39m\u001b[38;5;241m.\u001b[39m_created_variables:\n\u001b[0;32m    882\u001b[0m   \u001b[38;5;28;01mraise\u001b[39;00m \u001b[38;5;167;01mValueError\u001b[39;00m(\u001b[38;5;124m\"\u001b[39m\u001b[38;5;124mCreating variables on a non-first call to a function\u001b[39m\u001b[38;5;124m\"\u001b[39m\n\u001b[0;32m    883\u001b[0m                    \u001b[38;5;124m\"\u001b[39m\u001b[38;5;124m decorated with tf.function.\u001b[39m\u001b[38;5;124m\"\u001b[39m)\n",
      "File \u001b[1;32m~\\AppData\\Local\\Packages\\PythonSoftwareFoundation.Python.3.10_qbz5n2kfra8p0\\LocalCache\\local-packages\\Python310\\site-packages\\tensorflow\\python\\eager\\polymorphic_function\\tracing_compilation.py:139\u001b[0m, in \u001b[0;36mcall_function\u001b[1;34m(args, kwargs, tracing_options)\u001b[0m\n\u001b[0;32m    137\u001b[0m bound_args \u001b[38;5;241m=\u001b[39m function\u001b[38;5;241m.\u001b[39mfunction_type\u001b[38;5;241m.\u001b[39mbind(\u001b[38;5;241m*\u001b[39margs, \u001b[38;5;241m*\u001b[39m\u001b[38;5;241m*\u001b[39mkwargs)\n\u001b[0;32m    138\u001b[0m flat_inputs \u001b[38;5;241m=\u001b[39m function\u001b[38;5;241m.\u001b[39mfunction_type\u001b[38;5;241m.\u001b[39munpack_inputs(bound_args)\n\u001b[1;32m--> 139\u001b[0m \u001b[38;5;28;01mreturn\u001b[39;00m \u001b[43mfunction\u001b[49m\u001b[38;5;241;43m.\u001b[39;49m\u001b[43m_call_flat\u001b[49m\u001b[43m(\u001b[49m\u001b[43m  \u001b[49m\u001b[38;5;66;43;03m# pylint: disable=protected-access\u001b[39;49;00m\n\u001b[0;32m    140\u001b[0m \u001b[43m    \u001b[49m\u001b[43mflat_inputs\u001b[49m\u001b[43m,\u001b[49m\u001b[43m \u001b[49m\u001b[43mcaptured_inputs\u001b[49m\u001b[38;5;241;43m=\u001b[39;49m\u001b[43mfunction\u001b[49m\u001b[38;5;241;43m.\u001b[39;49m\u001b[43mcaptured_inputs\u001b[49m\n\u001b[0;32m    141\u001b[0m \u001b[43m\u001b[49m\u001b[43m)\u001b[49m\n",
      "File \u001b[1;32m~\\AppData\\Local\\Packages\\PythonSoftwareFoundation.Python.3.10_qbz5n2kfra8p0\\LocalCache\\local-packages\\Python310\\site-packages\\tensorflow\\python\\eager\\polymorphic_function\\concrete_function.py:1322\u001b[0m, in \u001b[0;36mConcreteFunction._call_flat\u001b[1;34m(self, tensor_inputs, captured_inputs)\u001b[0m\n\u001b[0;32m   1318\u001b[0m possible_gradient_type \u001b[38;5;241m=\u001b[39m gradients_util\u001b[38;5;241m.\u001b[39mPossibleTapeGradientTypes(args)\n\u001b[0;32m   1319\u001b[0m \u001b[38;5;28;01mif\u001b[39;00m (possible_gradient_type \u001b[38;5;241m==\u001b[39m gradients_util\u001b[38;5;241m.\u001b[39mPOSSIBLE_GRADIENT_TYPES_NONE\n\u001b[0;32m   1320\u001b[0m     \u001b[38;5;129;01mand\u001b[39;00m executing_eagerly):\n\u001b[0;32m   1321\u001b[0m   \u001b[38;5;66;03m# No tape is watching; skip to running the function.\u001b[39;00m\n\u001b[1;32m-> 1322\u001b[0m   \u001b[38;5;28;01mreturn\u001b[39;00m \u001b[38;5;28;43mself\u001b[39;49m\u001b[38;5;241;43m.\u001b[39;49m\u001b[43m_inference_function\u001b[49m\u001b[38;5;241;43m.\u001b[39;49m\u001b[43mcall_preflattened\u001b[49m\u001b[43m(\u001b[49m\u001b[43margs\u001b[49m\u001b[43m)\u001b[49m\n\u001b[0;32m   1323\u001b[0m forward_backward \u001b[38;5;241m=\u001b[39m \u001b[38;5;28mself\u001b[39m\u001b[38;5;241m.\u001b[39m_select_forward_and_backward_functions(\n\u001b[0;32m   1324\u001b[0m     args,\n\u001b[0;32m   1325\u001b[0m     possible_gradient_type,\n\u001b[0;32m   1326\u001b[0m     executing_eagerly)\n\u001b[0;32m   1327\u001b[0m forward_function, args_with_tangents \u001b[38;5;241m=\u001b[39m forward_backward\u001b[38;5;241m.\u001b[39mforward()\n",
      "File \u001b[1;32m~\\AppData\\Local\\Packages\\PythonSoftwareFoundation.Python.3.10_qbz5n2kfra8p0\\LocalCache\\local-packages\\Python310\\site-packages\\tensorflow\\python\\eager\\polymorphic_function\\atomic_function.py:216\u001b[0m, in \u001b[0;36mAtomicFunction.call_preflattened\u001b[1;34m(self, args)\u001b[0m\n\u001b[0;32m    214\u001b[0m \u001b[38;5;28;01mdef\u001b[39;00m \u001b[38;5;21mcall_preflattened\u001b[39m(\u001b[38;5;28mself\u001b[39m, args: Sequence[core\u001b[38;5;241m.\u001b[39mTensor]) \u001b[38;5;241m-\u001b[39m\u001b[38;5;241m>\u001b[39m Any:\n\u001b[0;32m    215\u001b[0m \u001b[38;5;250m  \u001b[39m\u001b[38;5;124;03m\"\"\"Calls with flattened tensor inputs and returns the structured output.\"\"\"\u001b[39;00m\n\u001b[1;32m--> 216\u001b[0m   flat_outputs \u001b[38;5;241m=\u001b[39m \u001b[38;5;28;43mself\u001b[39;49m\u001b[38;5;241;43m.\u001b[39;49m\u001b[43mcall_flat\u001b[49m\u001b[43m(\u001b[49m\u001b[38;5;241;43m*\u001b[39;49m\u001b[43margs\u001b[49m\u001b[43m)\u001b[49m\n\u001b[0;32m    217\u001b[0m   \u001b[38;5;28;01mreturn\u001b[39;00m \u001b[38;5;28mself\u001b[39m\u001b[38;5;241m.\u001b[39mfunction_type\u001b[38;5;241m.\u001b[39mpack_output(flat_outputs)\n",
      "File \u001b[1;32m~\\AppData\\Local\\Packages\\PythonSoftwareFoundation.Python.3.10_qbz5n2kfra8p0\\LocalCache\\local-packages\\Python310\\site-packages\\tensorflow\\python\\eager\\polymorphic_function\\atomic_function.py:251\u001b[0m, in \u001b[0;36mAtomicFunction.call_flat\u001b[1;34m(self, *args)\u001b[0m\n\u001b[0;32m    249\u001b[0m \u001b[38;5;28;01mwith\u001b[39;00m record\u001b[38;5;241m.\u001b[39mstop_recording():\n\u001b[0;32m    250\u001b[0m   \u001b[38;5;28;01mif\u001b[39;00m \u001b[38;5;28mself\u001b[39m\u001b[38;5;241m.\u001b[39m_bound_context\u001b[38;5;241m.\u001b[39mexecuting_eagerly():\n\u001b[1;32m--> 251\u001b[0m     outputs \u001b[38;5;241m=\u001b[39m \u001b[38;5;28;43mself\u001b[39;49m\u001b[38;5;241;43m.\u001b[39;49m\u001b[43m_bound_context\u001b[49m\u001b[38;5;241;43m.\u001b[39;49m\u001b[43mcall_function\u001b[49m\u001b[43m(\u001b[49m\n\u001b[0;32m    252\u001b[0m \u001b[43m        \u001b[49m\u001b[38;5;28;43mself\u001b[39;49m\u001b[38;5;241;43m.\u001b[39;49m\u001b[43mname\u001b[49m\u001b[43m,\u001b[49m\n\u001b[0;32m    253\u001b[0m \u001b[43m        \u001b[49m\u001b[38;5;28;43mlist\u001b[39;49m\u001b[43m(\u001b[49m\u001b[43margs\u001b[49m\u001b[43m)\u001b[49m\u001b[43m,\u001b[49m\n\u001b[0;32m    254\u001b[0m \u001b[43m        \u001b[49m\u001b[38;5;28;43mlen\u001b[39;49m\u001b[43m(\u001b[49m\u001b[38;5;28;43mself\u001b[39;49m\u001b[38;5;241;43m.\u001b[39;49m\u001b[43mfunction_type\u001b[49m\u001b[38;5;241;43m.\u001b[39;49m\u001b[43mflat_outputs\u001b[49m\u001b[43m)\u001b[49m\u001b[43m,\u001b[49m\n\u001b[0;32m    255\u001b[0m \u001b[43m    \u001b[49m\u001b[43m)\u001b[49m\n\u001b[0;32m    256\u001b[0m   \u001b[38;5;28;01melse\u001b[39;00m:\n\u001b[0;32m    257\u001b[0m     outputs \u001b[38;5;241m=\u001b[39m make_call_op_in_graph(\n\u001b[0;32m    258\u001b[0m         \u001b[38;5;28mself\u001b[39m,\n\u001b[0;32m    259\u001b[0m         \u001b[38;5;28mlist\u001b[39m(args),\n\u001b[0;32m    260\u001b[0m         \u001b[38;5;28mself\u001b[39m\u001b[38;5;241m.\u001b[39m_bound_context\u001b[38;5;241m.\u001b[39mfunction_call_options\u001b[38;5;241m.\u001b[39mas_attrs(),\n\u001b[0;32m    261\u001b[0m     )\n",
      "File \u001b[1;32m~\\AppData\\Local\\Packages\\PythonSoftwareFoundation.Python.3.10_qbz5n2kfra8p0\\LocalCache\\local-packages\\Python310\\site-packages\\tensorflow\\python\\eager\\context.py:1500\u001b[0m, in \u001b[0;36mContext.call_function\u001b[1;34m(self, name, tensor_inputs, num_outputs)\u001b[0m\n\u001b[0;32m   1498\u001b[0m cancellation_context \u001b[38;5;241m=\u001b[39m cancellation\u001b[38;5;241m.\u001b[39mcontext()\n\u001b[0;32m   1499\u001b[0m \u001b[38;5;28;01mif\u001b[39;00m cancellation_context \u001b[38;5;129;01mis\u001b[39;00m \u001b[38;5;28;01mNone\u001b[39;00m:\n\u001b[1;32m-> 1500\u001b[0m   outputs \u001b[38;5;241m=\u001b[39m \u001b[43mexecute\u001b[49m\u001b[38;5;241;43m.\u001b[39;49m\u001b[43mexecute\u001b[49m\u001b[43m(\u001b[49m\n\u001b[0;32m   1501\u001b[0m \u001b[43m      \u001b[49m\u001b[43mname\u001b[49m\u001b[38;5;241;43m.\u001b[39;49m\u001b[43mdecode\u001b[49m\u001b[43m(\u001b[49m\u001b[38;5;124;43m\"\u001b[39;49m\u001b[38;5;124;43mutf-8\u001b[39;49m\u001b[38;5;124;43m\"\u001b[39;49m\u001b[43m)\u001b[49m\u001b[43m,\u001b[49m\n\u001b[0;32m   1502\u001b[0m \u001b[43m      \u001b[49m\u001b[43mnum_outputs\u001b[49m\u001b[38;5;241;43m=\u001b[39;49m\u001b[43mnum_outputs\u001b[49m\u001b[43m,\u001b[49m\n\u001b[0;32m   1503\u001b[0m \u001b[43m      \u001b[49m\u001b[43minputs\u001b[49m\u001b[38;5;241;43m=\u001b[39;49m\u001b[43mtensor_inputs\u001b[49m\u001b[43m,\u001b[49m\n\u001b[0;32m   1504\u001b[0m \u001b[43m      \u001b[49m\u001b[43mattrs\u001b[49m\u001b[38;5;241;43m=\u001b[39;49m\u001b[43mattrs\u001b[49m\u001b[43m,\u001b[49m\n\u001b[0;32m   1505\u001b[0m \u001b[43m      \u001b[49m\u001b[43mctx\u001b[49m\u001b[38;5;241;43m=\u001b[39;49m\u001b[38;5;28;43mself\u001b[39;49m\u001b[43m,\u001b[49m\n\u001b[0;32m   1506\u001b[0m \u001b[43m  \u001b[49m\u001b[43m)\u001b[49m\n\u001b[0;32m   1507\u001b[0m \u001b[38;5;28;01melse\u001b[39;00m:\n\u001b[0;32m   1508\u001b[0m   outputs \u001b[38;5;241m=\u001b[39m execute\u001b[38;5;241m.\u001b[39mexecute_with_cancellation(\n\u001b[0;32m   1509\u001b[0m       name\u001b[38;5;241m.\u001b[39mdecode(\u001b[38;5;124m\"\u001b[39m\u001b[38;5;124mutf-8\u001b[39m\u001b[38;5;124m\"\u001b[39m),\n\u001b[0;32m   1510\u001b[0m       num_outputs\u001b[38;5;241m=\u001b[39mnum_outputs,\n\u001b[1;32m   (...)\u001b[0m\n\u001b[0;32m   1514\u001b[0m       cancellation_manager\u001b[38;5;241m=\u001b[39mcancellation_context,\n\u001b[0;32m   1515\u001b[0m   )\n",
      "File \u001b[1;32m~\\AppData\\Local\\Packages\\PythonSoftwareFoundation.Python.3.10_qbz5n2kfra8p0\\LocalCache\\local-packages\\Python310\\site-packages\\tensorflow\\python\\eager\\execute.py:53\u001b[0m, in \u001b[0;36mquick_execute\u001b[1;34m(op_name, num_outputs, inputs, attrs, ctx, name)\u001b[0m\n\u001b[0;32m     51\u001b[0m \u001b[38;5;28;01mtry\u001b[39;00m:\n\u001b[0;32m     52\u001b[0m   ctx\u001b[38;5;241m.\u001b[39mensure_initialized()\n\u001b[1;32m---> 53\u001b[0m   tensors \u001b[38;5;241m=\u001b[39m \u001b[43mpywrap_tfe\u001b[49m\u001b[38;5;241;43m.\u001b[39;49m\u001b[43mTFE_Py_Execute\u001b[49m\u001b[43m(\u001b[49m\u001b[43mctx\u001b[49m\u001b[38;5;241;43m.\u001b[39;49m\u001b[43m_handle\u001b[49m\u001b[43m,\u001b[49m\u001b[43m \u001b[49m\u001b[43mdevice_name\u001b[49m\u001b[43m,\u001b[49m\u001b[43m \u001b[49m\u001b[43mop_name\u001b[49m\u001b[43m,\u001b[49m\n\u001b[0;32m     54\u001b[0m \u001b[43m                                      \u001b[49m\u001b[43minputs\u001b[49m\u001b[43m,\u001b[49m\u001b[43m \u001b[49m\u001b[43mattrs\u001b[49m\u001b[43m,\u001b[49m\u001b[43m \u001b[49m\u001b[43mnum_outputs\u001b[49m\u001b[43m)\u001b[49m\n\u001b[0;32m     55\u001b[0m \u001b[38;5;28;01mexcept\u001b[39;00m core\u001b[38;5;241m.\u001b[39m_NotOkStatusException \u001b[38;5;28;01mas\u001b[39;00m e:\n\u001b[0;32m     56\u001b[0m   \u001b[38;5;28;01mif\u001b[39;00m name \u001b[38;5;129;01mis\u001b[39;00m \u001b[38;5;129;01mnot\u001b[39;00m \u001b[38;5;28;01mNone\u001b[39;00m:\n",
      "\u001b[1;31mKeyboardInterrupt\u001b[0m: "
     ]
    }
   ],
   "source": [
    "# Train the model\n",
    "model.fit(augmented_sequences, combined_labels, epochs=10, batch_size=64, validation_split=0.2)"
   ]
  }
 ],
 "metadata": {
  "kernelspec": {
   "display_name": "Python 3",
   "language": "python",
   "name": "python3"
  },
  "language_info": {
   "codemirror_mode": {
    "name": "ipython",
    "version": 3
   },
   "file_extension": ".py",
   "mimetype": "text/x-python",
   "name": "python",
   "nbconvert_exporter": "python",
   "pygments_lexer": "ipython3",
   "version": "3.10.11"
  }
 },
 "nbformat": 4,
 "nbformat_minor": 2
}
